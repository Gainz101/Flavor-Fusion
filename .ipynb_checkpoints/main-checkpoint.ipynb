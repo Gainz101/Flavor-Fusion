{
 "cells": [
  {
   "cell_type": "code",
   "execution_count": 2,
   "metadata": {},
   "outputs": [
    {
     "name": "stderr",
     "output_type": "stream",
     "text": [
      "[nltk_data] Downloading package punkt to\n",
      "[nltk_data]     /Users/jakabernat/nltk_data...\n",
      "[nltk_data]   Package punkt is already up-to-date!\n",
      "[nltk_data] Downloading package stopwords to\n",
      "[nltk_data]     /Users/jakabernat/nltk_data...\n",
      "[nltk_data]   Package stopwords is already up-to-date!\n"
     ]
    }
   ],
   "source": [
    "from gensim.models.doc2vec import Doc2Vec, TaggedDocument\n",
    "from nltk.tokenize import word_tokenize\n",
    "import pandas as pd\n",
    "import nltk\n",
    "from nltk.corpus import stopwords\n",
    "from gensim.models import Word2Vec\n",
    "\n",
    "# Import dataset\n",
    "df = pd.read_csv('all_recipies.csv')\n",
    "\n",
    "# Create lists of types and descriptions\n",
    "food_types = df['recipe_name'].tolist()\n",
    "food_decr_raw = df['description'].tolist()\n",
    "\n",
    "# Download the stopwords from NLTK\n",
    "nltk.download('punkt')\n",
    "nltk.download('stopwords')\n",
    "\n",
    "stop_words = set(stopwords.words('english'))\n",
    "\n",
    "# Function to process each description\n",
    "def preprocess(description):\n",
    "    tokens = word_tokenize(description)\n",
    "    tokens = [word for word in tokens if word.isalnum()]\n",
    "    postprocessed_desc = [w.lower() for w in tokens if not w.lower() in stop_words]\n",
    "    return \" \".join(postprocessed_desc)\n",
    "\n",
    "# Preprocess all food descriptions\n",
    "food_decr = [preprocess(desc) for desc in food_decr_raw]\n",
    "\n",
    "# Train Word2Vec model\n",
    "word2vec_model = Word2Vec(sentences=[word_tokenize(desc) for desc in food_decr], vector_size=50, window=5, min_count=1, workers=4)\n",
    "\n"
   ]
  },
  {
   "cell_type": "code",
   "execution_count": null,
   "metadata": {},
   "outputs": [],
   "source": [
    "# Use Word2Vec embeddings to initialize Doc2Vec model\n",
    "tagged_data = [TaggedDocument(words=word_tokenize(doc.lower()), tags=[str(i)]) for i, doc in enumerate(food_decr)]\n",
    "doc2vec_model = Doc2Vec(vector_size=50, window=5, min_count=1, workers=4, epochs=100)\n",
    "doc2vec_model.build_vocab(tagged_data)\n",
    "doc2vec_model.wv = word2vec_model.wv  # Use Word2Vec embeddings\n",
    "doc2vec_model.train(tagged_data, total_examples=doc2vec_model.corpus_count, epochs=doc2vec_model.epochs)\n",
    "\n"
   ]
  },
  {
   "cell_type": "code",
   "execution_count": null,
   "metadata": {},
   "outputs": [],
   "source": [
    "# from bardapi import Bard\n",
    "\n",
    "# dining_history=[]\n",
    "# print(\"Enter 5 food you've ate recentely or that you like: \") \n",
    "# for i in range(0,5):\n",
    "#     diningHistory.append(input())\n",
    "dining_history = [\"greek salad\", \"gyros\", \"orzo\",\"tacos\",\"feta cheese\"]\n",
    "\n",
    "# Get the document vector for the combined dining history\n",
    "combined_vector = doc2vec_model.infer_vector(word_tokenize(\" \".join(dining_history).lower()))\n",
    "\n",
    "# Find the most similar food item from the dataset\n",
    "similar_documents = doc2vec_model.dv.most_similar([combined_vector], topn=1)\n",
    "similar_food_index = int(similar_documents[0][0])\n",
    "similar_food = food_types[similar_food_index]\n",
    "\n",
    "# Print the most similar food item\n",
    "print(f\"The most similar food item to the combined dining history is: {similar_food}\")\n",
    "\n",
    "\n",
    "\n",
    "# #Bard - Searching for restaurants nearby \n",
    "\n",
    "# # Replace API_KEY with your actual API key\n",
    "# API_KEY = \"dQjTcZCzYfXtNEZCvwPVpWvIFkmCZvtyFF_jsoi0R45nP54lYKKJVLKMvtonqYLhzhD0Rg.\"\n",
    "\n",
    "# bard = Bard(token=API_KEY)\n",
    "\n",
    "# result = bard.get_answer(\"Given the food item \",similar_food,\" suggest a broad genre or type of cuisine that matches this preference. Additionally, provide recommendations for nearby restaurants or dishes within this genre.\")\n",
    "\n",
    "# # Parse the content field\n",
    "# content = result['content']\n",
    "\n",
    "# # Split the content into lines\n",
    "# lines = content.split('\\n')\n",
    "\n",
    "# # Filter out the lines that start with '*'\n",
    "# food_places = [line for line in lines if line.startswith('*')]\n",
    "\n",
    "# # Print the food places\n",
    "# for place in food_places:\n",
    "#     print(place)\n"
   ]
  },
  {
   "cell_type": "code",
   "execution_count": null,
   "metadata": {},
   "outputs": [],
   "source": []
  }
 ],
 "metadata": {
  "kernelspec": {
   "display_name": "Python 3 (ipykernel)",
   "language": "python",
   "name": "python3"
  },
  "language_info": {
   "codemirror_mode": {
    "name": "ipython",
    "version": 3
   },
   "file_extension": ".py",
   "mimetype": "text/x-python",
   "name": "python",
   "nbconvert_exporter": "python",
   "pygments_lexer": "ipython3",
   "version": "3.11.3"
  },
  "vscode": {
   "interpreter": {
    "hash": "40d3a090f54c6569ab1632332b64b2c03c39dcf918b08424e98f38b5ae0af88f"
   }
  }
 },
 "nbformat": 4,
 "nbformat_minor": 2
}
